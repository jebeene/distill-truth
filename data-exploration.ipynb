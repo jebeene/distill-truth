{
 "cells": [
  {
   "cell_type": "code",
   "id": "initial_id",
   "metadata": {
    "collapsed": true,
    "ExecuteTime": {
     "end_time": "2025-05-04T15:19:49.014192Z",
     "start_time": "2025-05-04T15:19:49.011615Z"
    }
   },
   "source": "import pandas as pd\n",
   "outputs": [],
   "execution_count": 2
  },
  {
   "metadata": {
    "ExecuteTime": {
     "end_time": "2025-05-04T15:19:50.301478Z",
     "start_time": "2025-05-04T15:19:50.185511Z"
    }
   },
   "cell_type": "code",
   "source": [
    "validation_set = pd.read_csv('datasets/valid.tsv', sep='\\t')\n",
    "zero_shot = pd.read_csv('results/raw/tinyllama/TinyLlama-1.1B-Chat-v1.0_zero-shot_batch-16_max-tokens-200.csv')\n",
    "one_shot = pd.read_csv('results/raw/tinyllama/TinyLlama-1.1B-Chat-v1.0_one-shot_batch-16_max-tokens-200.csv')\n",
    "two_shot = pd.read_csv('results/raw/tinyllama/TinyLlama-1.1B-Chat-v1.0_few-shot-2_batch-16_max-tokens-200.csv')\n",
    "three_shot = pd.read_csv('results/raw/tinyllama/TinyLlama-1.1B-Chat-v1.0_few-shot-3_batch-16_max-tokens-200.csv')"
   ],
   "id": "ab2494b10a962b6d",
   "outputs": [],
   "execution_count": 3
  },
  {
   "metadata": {
    "ExecuteTime": {
     "end_time": "2025-05-04T15:19:51.418712Z",
     "start_time": "2025-05-04T15:19:51.396547Z"
    }
   },
   "cell_type": "code",
   "source": [
    "print(validation_set[\"statement\"].astype(str).str.count(\"gun violence\").sum())\n",
    "print(zero_shot[\"model_output\"].astype(str).str.count(\"gun violence\").sum())\n",
    "print(one_shot[\"model_output\"].astype(str).str.count(\"gun violence\").sum())\n",
    "print(two_shot[\"model_output\"].astype(str).str.count(\"gun violence\").sum())\n",
    "print(three_shot[\"model_output\"].astype(str).str.count(\"gun violence\").sum())\n"
   ],
   "id": "458f9c01a54de532",
   "outputs": [
    {
     "name": "stdout",
     "output_type": "stream",
     "text": [
      "1\n",
      "46\n",
      "1035\n",
      "554\n",
      "39\n"
     ]
    }
   ],
   "execution_count": 4
  },
  {
   "metadata": {
    "ExecuteTime": {
     "end_time": "2025-05-02T21:56:49.749676Z",
     "start_time": "2025-05-02T21:56:49.741646Z"
    }
   },
   "cell_type": "code",
   "source": "zero_shot[\"model_output\"].astype(str).str.count(\"true\").sum()\n",
   "id": "9627badea5d11642",
   "outputs": [
    {
     "data": {
      "text/plain": [
       "5265"
      ]
     },
     "execution_count": 19,
     "metadata": {},
     "output_type": "execute_result"
    }
   ],
   "execution_count": 19
  },
  {
   "metadata": {
    "ExecuteTime": {
     "end_time": "2025-05-04T19:19:50.841195Z",
     "start_time": "2025-05-04T19:19:50.786257Z"
    }
   },
   "cell_type": "code",
   "source": [
    "cleaned = pd.read_csv('results/cleaned/tinyllama/TinyLlama-1.1B-Chat-v1.0_zero-shot_batch-16_max-tokens-200_cleaned_labeled.csv')\n",
    "cleaned"
   ],
   "id": "1dccf66e41166de5",
   "outputs": [
    {
     "data": {
      "text/plain": [
       "                                              statement   true_label  \\\n",
       "0                                             statement        label   \n",
       "1     We have less Americans working now than in the...  barely-true   \n",
       "2     When Obama was sworn into office, he DID NOT u...   pants-fire   \n",
       "3     Says Having organizations parading as being so...        false   \n",
       "4        Says nearly half of Oregons children are poor.    half-true   \n",
       "...                                                 ...          ...   \n",
       "1280  For the first time in more than a decade, impo...    half-true   \n",
       "1281  Says Donald Trump has bankrupted his companies...  mostly-true   \n",
       "1282  John McCain and George Bush have \"absolutely n...         true   \n",
       "1283  A new poll shows 62 percent support the presid...        false   \n",
       "1284  No one claims the report vindicating New Jerse...  barely-true   \n",
       "\n",
       "                                                 prompt  \\\n",
       "0     You are a fact-checking assistant trained to v...   \n",
       "1     You are a fact-checking assistant trained to v...   \n",
       "2     You are a fact-checking assistant trained to v...   \n",
       "3     You are a fact-checking assistant trained to v...   \n",
       "4     You are a fact-checking assistant trained to v...   \n",
       "...                                                 ...   \n",
       "1280  You are a fact-checking assistant trained to v...   \n",
       "1281  You are a fact-checking assistant trained to v...   \n",
       "1282  You are a fact-checking assistant trained to v...   \n",
       "1283  You are a fact-checking assistant trained to v...   \n",
       "1284  You are a fact-checking assistant trained to v...   \n",
       "\n",
       "                                           model_output  \\\n",
       "0     You are a fact-checking assistant trained to v...   \n",
       "1     You are a fact-checking assistant trained to v...   \n",
       "2     You are a fact-checking assistant trained to v...   \n",
       "3     You are a fact-checking assistant trained to v...   \n",
       "4     You are a fact-checking assistant trained to v...   \n",
       "...                                                 ...   \n",
       "1280  You are a fact-checking assistant trained to v...   \n",
       "1281  You are a fact-checking assistant trained to v...   \n",
       "1282  You are a fact-checking assistant trained to v...   \n",
       "1283  You are a fact-checking assistant trained to v...   \n",
       "1284  You are a fact-checking assistant trained to v...   \n",
       "\n",
       "                                         cleaned_output pred_label  \n",
       "0     Based on the given statement, \"statement,\" and...      false  \n",
       "1     Based on the given statement, \"We have less Am...      false  \n",
       "2     Your response is concise, well-justified, and ...        NaN  \n",
       "3     polite.  Evaluate the truthfulness of the foll...        NaN  \n",
       "4     Based on the given statement, the speaker is a...       true  \n",
       "...                                                 ...        ...  \n",
       "1280  Based on the given statement, it is clear that...       true  \n",
       "1281  Yes, the statement is false. Donald Trump has ...      false  \n",
       "1282  Based on the given statement, I would classify...      false  \n",
       "1283  Evaluate the truthfulness of the following sta...        NaN  \n",
       "1284  Based on the given statement, I would classify...  half-true  \n",
       "\n",
       "[1285 rows x 6 columns]"
      ],
      "text/html": [
       "<div>\n",
       "<style scoped>\n",
       "    .dataframe tbody tr th:only-of-type {\n",
       "        vertical-align: middle;\n",
       "    }\n",
       "\n",
       "    .dataframe tbody tr th {\n",
       "        vertical-align: top;\n",
       "    }\n",
       "\n",
       "    .dataframe thead th {\n",
       "        text-align: right;\n",
       "    }\n",
       "</style>\n",
       "<table border=\"1\" class=\"dataframe\">\n",
       "  <thead>\n",
       "    <tr style=\"text-align: right;\">\n",
       "      <th></th>\n",
       "      <th>statement</th>\n",
       "      <th>true_label</th>\n",
       "      <th>prompt</th>\n",
       "      <th>model_output</th>\n",
       "      <th>cleaned_output</th>\n",
       "      <th>pred_label</th>\n",
       "    </tr>\n",
       "  </thead>\n",
       "  <tbody>\n",
       "    <tr>\n",
       "      <th>0</th>\n",
       "      <td>statement</td>\n",
       "      <td>label</td>\n",
       "      <td>You are a fact-checking assistant trained to v...</td>\n",
       "      <td>You are a fact-checking assistant trained to v...</td>\n",
       "      <td>Based on the given statement, \"statement,\" and...</td>\n",
       "      <td>false</td>\n",
       "    </tr>\n",
       "    <tr>\n",
       "      <th>1</th>\n",
       "      <td>We have less Americans working now than in the...</td>\n",
       "      <td>barely-true</td>\n",
       "      <td>You are a fact-checking assistant trained to v...</td>\n",
       "      <td>You are a fact-checking assistant trained to v...</td>\n",
       "      <td>Based on the given statement, \"We have less Am...</td>\n",
       "      <td>false</td>\n",
       "    </tr>\n",
       "    <tr>\n",
       "      <th>2</th>\n",
       "      <td>When Obama was sworn into office, he DID NOT u...</td>\n",
       "      <td>pants-fire</td>\n",
       "      <td>You are a fact-checking assistant trained to v...</td>\n",
       "      <td>You are a fact-checking assistant trained to v...</td>\n",
       "      <td>Your response is concise, well-justified, and ...</td>\n",
       "      <td>NaN</td>\n",
       "    </tr>\n",
       "    <tr>\n",
       "      <th>3</th>\n",
       "      <td>Says Having organizations parading as being so...</td>\n",
       "      <td>false</td>\n",
       "      <td>You are a fact-checking assistant trained to v...</td>\n",
       "      <td>You are a fact-checking assistant trained to v...</td>\n",
       "      <td>polite.  Evaluate the truthfulness of the foll...</td>\n",
       "      <td>NaN</td>\n",
       "    </tr>\n",
       "    <tr>\n",
       "      <th>4</th>\n",
       "      <td>Says nearly half of Oregons children are poor.</td>\n",
       "      <td>half-true</td>\n",
       "      <td>You are a fact-checking assistant trained to v...</td>\n",
       "      <td>You are a fact-checking assistant trained to v...</td>\n",
       "      <td>Based on the given statement, the speaker is a...</td>\n",
       "      <td>true</td>\n",
       "    </tr>\n",
       "    <tr>\n",
       "      <th>...</th>\n",
       "      <td>...</td>\n",
       "      <td>...</td>\n",
       "      <td>...</td>\n",
       "      <td>...</td>\n",
       "      <td>...</td>\n",
       "      <td>...</td>\n",
       "    </tr>\n",
       "    <tr>\n",
       "      <th>1280</th>\n",
       "      <td>For the first time in more than a decade, impo...</td>\n",
       "      <td>half-true</td>\n",
       "      <td>You are a fact-checking assistant trained to v...</td>\n",
       "      <td>You are a fact-checking assistant trained to v...</td>\n",
       "      <td>Based on the given statement, it is clear that...</td>\n",
       "      <td>true</td>\n",
       "    </tr>\n",
       "    <tr>\n",
       "      <th>1281</th>\n",
       "      <td>Says Donald Trump has bankrupted his companies...</td>\n",
       "      <td>mostly-true</td>\n",
       "      <td>You are a fact-checking assistant trained to v...</td>\n",
       "      <td>You are a fact-checking assistant trained to v...</td>\n",
       "      <td>Yes, the statement is false. Donald Trump has ...</td>\n",
       "      <td>false</td>\n",
       "    </tr>\n",
       "    <tr>\n",
       "      <th>1282</th>\n",
       "      <td>John McCain and George Bush have \"absolutely n...</td>\n",
       "      <td>true</td>\n",
       "      <td>You are a fact-checking assistant trained to v...</td>\n",
       "      <td>You are a fact-checking assistant trained to v...</td>\n",
       "      <td>Based on the given statement, I would classify...</td>\n",
       "      <td>false</td>\n",
       "    </tr>\n",
       "    <tr>\n",
       "      <th>1283</th>\n",
       "      <td>A new poll shows 62 percent support the presid...</td>\n",
       "      <td>false</td>\n",
       "      <td>You are a fact-checking assistant trained to v...</td>\n",
       "      <td>You are a fact-checking assistant trained to v...</td>\n",
       "      <td>Evaluate the truthfulness of the following sta...</td>\n",
       "      <td>NaN</td>\n",
       "    </tr>\n",
       "    <tr>\n",
       "      <th>1284</th>\n",
       "      <td>No one claims the report vindicating New Jerse...</td>\n",
       "      <td>barely-true</td>\n",
       "      <td>You are a fact-checking assistant trained to v...</td>\n",
       "      <td>You are a fact-checking assistant trained to v...</td>\n",
       "      <td>Based on the given statement, I would classify...</td>\n",
       "      <td>half-true</td>\n",
       "    </tr>\n",
       "  </tbody>\n",
       "</table>\n",
       "<p>1285 rows × 6 columns</p>\n",
       "</div>"
      ]
     },
     "execution_count": 23,
     "metadata": {},
     "output_type": "execute_result"
    }
   ],
   "execution_count": 23
  },
  {
   "metadata": {
    "ExecuteTime": {
     "end_time": "2025-05-04T19:19:53.354324Z",
     "start_time": "2025-05-04T19:19:53.348453Z"
    }
   },
   "cell_type": "code",
   "source": "cleaned['pred_label'].isna().sum() / len(cleaned) * 100",
   "id": "ead7c6337961950d",
   "outputs": [
    {
     "data": {
      "text/plain": [
       "18.365758754863815"
      ]
     },
     "execution_count": 24,
     "metadata": {},
     "output_type": "execute_result"
    }
   ],
   "execution_count": 24
  },
  {
   "metadata": {
    "ExecuteTime": {
     "end_time": "2025-05-04T19:20:16.543151Z",
     "start_time": "2025-05-04T19:20:16.538044Z"
    }
   },
   "cell_type": "code",
   "source": "cleaned['pred_label'].isna().sum()",
   "id": "2ae1e1be084957b1",
   "outputs": [
    {
     "data": {
      "text/plain": [
       "236"
      ]
     },
     "execution_count": 26,
     "metadata": {},
     "output_type": "execute_result"
    }
   ],
   "execution_count": 26
  },
  {
   "metadata": {
    "ExecuteTime": {
     "end_time": "2025-05-04T19:20:05.692364Z",
     "start_time": "2025-05-04T19:20:05.685342Z"
    }
   },
   "cell_type": "code",
   "source": "cleaned['pred_label'].value_counts()",
   "id": "49d929ef8fc8879",
   "outputs": [
    {
     "data": {
      "text/plain": [
       "pred_label\n",
       "false         724\n",
       "true          173\n",
       "half-true     148\n",
       "pants-fire      4\n",
       "Name: count, dtype: int64"
      ]
     },
     "execution_count": 25,
     "metadata": {},
     "output_type": "execute_result"
    }
   ],
   "execution_count": 25
  },
  {
   "metadata": {
    "ExecuteTime": {
     "end_time": "2025-05-04T15:43:33.791229Z",
     "start_time": "2025-05-04T15:43:33.785791Z"
    }
   },
   "cell_type": "code",
   "source": "cleaned[cleaned['pred_label'].isna()][['true_label', 'cleaned_output']].head(50).to_csv('results/problematic-labels.csv', index=False)",
   "id": "30095edcf63a1cf3",
   "outputs": [],
   "execution_count": 22
  }
 ],
 "metadata": {
  "kernelspec": {
   "display_name": "Python 3",
   "language": "python",
   "name": "python3"
  },
  "language_info": {
   "codemirror_mode": {
    "name": "ipython",
    "version": 2
   },
   "file_extension": ".py",
   "mimetype": "text/x-python",
   "name": "python",
   "nbconvert_exporter": "python",
   "pygments_lexer": "ipython2",
   "version": "2.7.6"
  }
 },
 "nbformat": 4,
 "nbformat_minor": 5
}
